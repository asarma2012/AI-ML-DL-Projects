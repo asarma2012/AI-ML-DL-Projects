{
  "nbformat": 4,
  "nbformat_minor": 0,
  "metadata": {
    "colab": {
      "name": "covid19_detection_xray_images.ipynb",
      "provenance": [],
      "mount_file_id": "1OY0W8eZDEN9rlRcvvaFdzgpCf8D4R-j5",
      "authorship_tag": "ABX9TyNplD/Omy7hnYy3HYGRtVwd",
      "include_colab_link": true
    },
    "kernelspec": {
      "name": "python3",
      "display_name": "Python 3"
    },
    "language_info": {
      "name": "python"
    }
  },
  "cells": [
    {
      "cell_type": "markdown",
      "metadata": {
        "id": "view-in-github",
        "colab_type": "text"
      },
      "source": [
        "<a href=\"https://colab.research.google.com/github/asarma2012/AI-ML-DL-Projects/blob/main/COVID19_Detection_Xray_Images/covid19_detection_xray_images.ipynb\" target=\"_parent\"><img src=\"https://colab.research.google.com/assets/colab-badge.svg\" alt=\"Open In Colab\"/></a>"
      ]
    },
    {
      "cell_type": "markdown",
      "metadata": {
        "id": "P50UNKFQzTN6"
      },
      "source": [
        "# COVID-19 Detection using X-ray Images\n",
        "In this project, a deep learning model would be built and used to analyze X-ray image data to detect COVID-19 exposure. COVID-19 is an infectious disease caused by the coronavirus discovered in late 2019.\n",
        "\n",
        "This project aims to increase the accuracy of the detection of this virus using sophisticated deep learning. Please don’t misuse this in any manner as this project is for exploration purposes.\n",
        "\n",
        "The X-ray dataset consists of X-ray images that are \"normal\" or \"COVID-positive\". The datasets were retrieved from the below links and were combined and zipped for convenience.\n",
        "\n",
        "[Corona positive X-Rays](https://github.com/ieee8023/covid-chestxray-dataset) \\\n",
        "[Normal X-Rays](https://www.kaggle.com/paultimothymooney/chest-xray-pneumonia)"
      ]
    },
    {
      "cell_type": "markdown",
      "metadata": {
        "id": "5EjU-9oR3dro"
      },
      "source": [
        "## Importing TensorFlow and Keras\n",
        "Here are the following modules being used in this project:\n",
        "\n",
        "`keras.preprocessing` to work with images.\n",
        "\n",
        "`keras.layers` to create different layers.\n",
        "\n",
        "`keras.models` to create a Sequential model, which takes a single input and generates a single output, i.e., no branches of the nodes are created."
      ]
    },
    {
      "cell_type": "code",
      "metadata": {
        "colab": {
          "base_uri": "https://localhost:8080/"
        },
        "id": "KfqSldq5YPzw",
        "outputId": "4ae75434-41ea-4538-98d6-05bc86f7c55f"
      },
      "source": [
        "from tensorflow.python.keras.preprocessing import image\n",
        "from tensorflow.python.keras.layers import *\n",
        "from tensorflow.python.keras.models import * \n",
        "print('Imported Successfully!')"
      ],
      "execution_count": 19,
      "outputs": [
        {
          "output_type": "stream",
          "text": [
            "Imported Successfully!\n"
          ],
          "name": "stdout"
        }
      ]
    },
    {
      "cell_type": "markdown",
      "metadata": {
        "id": "z6PFM5aT4I7g"
      },
      "source": [
        "## Building the Model Architecture"
      ]
    },
    {
      "cell_type": "code",
      "metadata": {
        "colab": {
          "base_uri": "https://localhost:8080/"
        },
        "id": "S11zl4v_kcFw",
        "outputId": "fcd89c12-b93b-4cec-865c-ad0e9f0b3230"
      },
      "source": [
        "model = Sequential()\n",
        "model.add(Conv2D(32, kernel_size=(3,3), activation=\"relu\",input_shape=(224,224,3)))\n",
        "model.add(Conv2D(64, kernel_size=(3,3), activation=\"relu\"))\n",
        "model.add(MaxPooling2D(pool_size=(2,2)))\n",
        "model.add(Dropout(0.25))\n",
        "model.add(Conv2D(128, kernel_size=(3,3), activation=\"relu\"))\n",
        "model.add(MaxPooling2D(pool_size=(2,2)))\n",
        "model.add(Dropout(0.25))\n",
        "model.add(Flatten())\n",
        "model.add(Dense(64, activation = \"relu\"))\n",
        "model.add(Dropout(0.5))\n",
        "model.add(Dense(1, activation=\"sigmoid\"))\n",
        "\n",
        "model.compile(loss=\"binary_crossentropy\", optimizer=\"adam\",metrics = [\"accuracy\"])\n",
        "model.summary()"
      ],
      "execution_count": 20,
      "outputs": [
        {
          "output_type": "stream",
          "text": [
            "Model: \"sequential_1\"\n",
            "_________________________________________________________________\n",
            "Layer (type)                 Output Shape              Param #   \n",
            "=================================================================\n",
            "conv2d_3 (Conv2D)            (None, 222, 222, 32)      896       \n",
            "_________________________________________________________________\n",
            "conv2d_4 (Conv2D)            (None, 220, 220, 64)      18496     \n",
            "_________________________________________________________________\n",
            "max_pooling2d_2 (MaxPooling2 (None, 110, 110, 64)      0         \n",
            "_________________________________________________________________\n",
            "dropout_3 (Dropout)          (None, 110, 110, 64)      0         \n",
            "_________________________________________________________________\n",
            "conv2d_5 (Conv2D)            (None, 108, 108, 128)     73856     \n",
            "_________________________________________________________________\n",
            "max_pooling2d_3 (MaxPooling2 (None, 54, 54, 128)       0         \n",
            "_________________________________________________________________\n",
            "dropout_4 (Dropout)          (None, 54, 54, 128)       0         \n",
            "_________________________________________________________________\n",
            "flatten_1 (Flatten)          (None, 373248)            0         \n",
            "_________________________________________________________________\n",
            "dense_2 (Dense)              (None, 64)                23887936  \n",
            "_________________________________________________________________\n",
            "dropout_5 (Dropout)          (None, 64)                0         \n",
            "_________________________________________________________________\n",
            "dense_3 (Dense)              (None, 1)                 65        \n",
            "=================================================================\n",
            "Total params: 23,981,249\n",
            "Trainable params: 23,981,249\n",
            "Non-trainable params: 0\n",
            "_________________________________________________________________\n"
          ],
          "name": "stdout"
        }
      ]
    },
    {
      "cell_type": "markdown",
      "metadata": {
        "id": "LT8hBtLo4eBB"
      },
      "source": [
        "## Load Datasets and Create Image Batches"
      ]
    },
    {
      "cell_type": "code",
      "metadata": {
        "colab": {
          "base_uri": "https://localhost:8080/"
        },
        "id": "sSY6BwcNklvs",
        "outputId": "3b3b46b0-e051-4ee8-f34d-b0595c1dfd50"
      },
      "source": [
        "train_datagen = image.ImageDataGenerator(rescale=1./255, shear_range=0.2, zoom_range=0.2, horizontal_flip=True)\n",
        "test_datagen = image.ImageDataGenerator(rescale = 1./255)\n",
        "\n",
        "print('Created the Data Generator Objects.')"
      ],
      "execution_count": 21,
      "outputs": [
        {
          "output_type": "stream",
          "text": [
            "Created the Data Generator Objects.\n"
          ],
          "name": "stdout"
        }
      ]
    },
    {
      "cell_type": "code",
      "metadata": {
        "colab": {
          "base_uri": "https://localhost:8080/"
        },
        "id": "0c8AAbH0kusL",
        "outputId": "43d0fdda-c608-4eb6-e817-8bd2e8c850c8"
      },
      "source": [
        "train_generator = train_datagen.flow_from_directory('/content/drive/MyDrive/Educative.io/Deep Learning Projects/COVID-19 Detection System with X-rays/CovidDataset/Train',target_size=(224,224),batch_size=32, class_mode=\"binary\")\n",
        "val_generator = test_datagen.flow_from_directory('/content/drive/MyDrive/Educative.io/Deep Learning Projects/COVID-19 Detection System with X-rays/CovidDataset/Val',target_size=(224,224),batch_size=32, class_mode=\"binary\")"
      ],
      "execution_count": 22,
      "outputs": [
        {
          "output_type": "stream",
          "text": [
            "Found 224 images belonging to 2 classes.\n",
            "Found 60 images belonging to 2 classes.\n"
          ],
          "name": "stdout"
        }
      ]
    },
    {
      "cell_type": "markdown",
      "metadata": {
        "id": "36Ivw6ll4tdT"
      },
      "source": [
        "## Build and Evaluate Model"
      ]
    },
    {
      "cell_type": "code",
      "metadata": {
        "colab": {
          "base_uri": "https://localhost:8080/"
        },
        "id": "uFJPX8x6k3iM",
        "outputId": "aae5df29-f110-4fa9-ccca-04ee36a32a68"
      },
      "source": [
        "hist = model.fit(train_generator, epochs = 6, validation_data=val_generator, validation_steps=2)"
      ],
      "execution_count": 23,
      "outputs": [
        {
          "output_type": "stream",
          "text": [
            "Epoch 1/6\n",
            "7/7 [==============================] - 73s 10s/step - loss: 2.5221 - accuracy: 0.4734 - val_loss: 0.6878 - val_accuracy: 0.5000\n",
            "Epoch 2/6\n",
            "7/7 [==============================] - 70s 10s/step - loss: 0.6832 - accuracy: 0.5955 - val_loss: 0.6159 - val_accuracy: 0.6833\n",
            "Epoch 3/6\n",
            "7/7 [==============================] - 70s 10s/step - loss: 0.5958 - accuracy: 0.6564 - val_loss: 0.4660 - val_accuracy: 0.9000\n",
            "Epoch 4/6\n",
            "7/7 [==============================] - 70s 10s/step - loss: 0.4696 - accuracy: 0.8033 - val_loss: 0.2695 - val_accuracy: 0.9333\n",
            "Epoch 5/6\n",
            "7/7 [==============================] - 70s 10s/step - loss: 0.2846 - accuracy: 0.8636 - val_loss: 0.2062 - val_accuracy: 0.9500\n",
            "Epoch 6/6\n",
            "7/7 [==============================] - 70s 10s/step - loss: 0.2481 - accuracy: 0.9094 - val_loss: 0.1454 - val_accuracy: 0.9500\n"
          ],
          "name": "stdout"
        }
      ]
    }
  ]
}